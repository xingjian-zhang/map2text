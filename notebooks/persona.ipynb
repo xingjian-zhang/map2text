{
 "cells": [
  {
   "cell_type": "code",
   "execution_count": null,
   "metadata": {},
   "outputs": [],
   "source": [
    "from datasets import load_dataset\n",
    "import pandas as pd\n",
    "import numpy as np\n",
    "\n",
    "ds = load_dataset(\"argilla/FinePersonas-v0.1-clustering-100k\")\n",
    "df = ds['train'].to_pandas()"
   ]
  },
  {
   "cell_type": "code",
   "execution_count": null,
   "metadata": {},
   "outputs": [],
   "source": [
    "# Sample 5 random rows to view\n",
    "df.sample(5)"
   ]
  },
  {
   "cell_type": "code",
   "execution_count": null,
   "metadata": {},
   "outputs": [],
   "source": [
    "df[\"summary_label\"] = df[\"summary_label\"].apply(eval)"
   ]
  },
  {
   "cell_type": "code",
   "execution_count": null,
   "metadata": {},
   "outputs": [],
   "source": [
    "# count occurrences of each label in summary_label\n",
    "summary_label_counts = {}\n",
    "for labels in df['summary_label']:\n",
    "    for label in labels:\n",
    "        summary_label_counts[label] = summary_label_counts.get(label, 0) + 1\n",
    "\n",
    "# Sort the summary_label_counts by value in descending order\n",
    "summary_label_counts = sorted(summary_label_counts.items(), key=lambda x: x[1], reverse=True)\n",
    "\n",
    "# Print the sorted summary_label_counts\n",
    "print(summary_label_counts)\n"
   ]
  },
  {
   "cell_type": "code",
   "execution_count": null,
   "metadata": {},
   "outputs": [],
   "source": [
    "# Compute the average position of first 10 labels\n",
    "\n",
    "frequent_labels = [label for label, count in summary_label_counts[:10]]\n",
    "\n",
    "def compute_average_position(df, label):\n",
    "    positions = df[df['summary_label'].apply(lambda x: label in x)]['projection'].to_list()\n",
    "    return np.mean(positions, axis=0)\n",
    "\n",
    "average_positions = {label: compute_average_position(df, label) for label in frequent_labels}\n",
    "\n",
    "print(average_positions)"
   ]
  },
  {
   "cell_type": "code",
   "execution_count": null,
   "metadata": {},
   "outputs": [],
   "source": [
    "# Visualize the 2d embeddings using Plotly\n",
    "import plotly.express as px\n",
    "import plotly.graph_objects as go\n",
    "\n",
    "# Extract the coordinates from the 'projection' column\n",
    "df[\"x\"] = df[\"projection\"].apply(lambda x: x[0])\n",
    "df[\"y\"] = df[\"projection\"].apply(lambda x: x[1])\n",
    "\n",
    "# Create an interactive scatter plot with Plotly\n",
    "fig = px.scatter(\n",
    "    df,\n",
    "    x=\"x\",\n",
    "    y=\"y\",\n",
    "    hover_data=[\"summary_label\"],\n",
    "    opacity=0.5,\n",
    "    # title=\"2D Embeddings Visualization\",\n",
    ")\n",
    "\n",
    "# Customize the layout\n",
    "fig.update_traces(marker=dict(size=1, line=dict(width=0.5, color=\"DarkSlateGrey\")))\n",
    "fig.update_layout(\n",
    "    title_font_size=24,\n",
    "    xaxis_title=\"\",\n",
    "    yaxis_title=\"\",\n",
    "    width=600,\n",
    "    height=600,\n",
    "    plot_bgcolor=\"white\",\n",
    "    paper_bgcolor=\"white\",\n",
    "    # hovermode='closest',\n",
    "    font=dict(family=\"Arial, sans-serif\", size=14, color=\"black\"),\n",
    ")\n",
    "\n",
    "# Improve axis appearance\n",
    "fig.update_xaxes(showgrid=True, gridwidth=1, gridcolor=\"LightGrey\", zeroline=False)\n",
    "fig.update_yaxes(showgrid=True, gridwidth=1, gridcolor=\"LightGrey\", zeroline=False)\n",
    "\n",
    "# Add a subtle border\n",
    "# Remove the border shape\n",
    "fig.update_layout(\n",
    "    shapes=[]  # Empty list to remove any shapes\n",
    ")\n",
    "# Remove x and y ticks\n",
    "fig.update_xaxes(showticklabels=False)\n",
    "fig.update_yaxes(showticklabels=False)\n",
    "\n",
    "# Remove the grid\n",
    "fig.update_xaxes(showgrid=False)\n",
    "fig.update_yaxes(showgrid=False)\n",
    "\n",
    "# Add text annotations for the average positions\n",
    "# for label, position in average_positions.items():\n",
    "#     fig.add_annotation(\n",
    "#         x=position[0],\n",
    "#         y=position[1],\n",
    "#         text=label,\n",
    "#         showarrow=True,\n",
    "#         arrowhead=2,\n",
    "#         font=dict(color=\"red\"),\n",
    "#     )\n",
    "\n",
    "# Uncomment to show the plot\n",
    "fig.show()"
   ]
  },
  {
   "cell_type": "code",
   "execution_count": null,
   "metadata": {},
   "outputs": [],
   "source": [
    "# Create a dataframe with the following columns:\n",
    "# id persona split_id\n",
    "\n",
    "# Randomly sample 1% of the dataframe for split_id=1, others split_id=0\n",
    "split_ids = df.sample(frac=0.01, random_state=42).index\n",
    "df['split_id'] = df.index.isin(split_ids).astype(int)\n",
    "df_split = df[['id', 'persona', 'split_id']]\n",
    "\n",
    "# Save the dataframe to a tsv file\n",
    "data_path = \"../data/persona.tsv\"\n",
    "df_split.to_csv(data_path, sep='\\t', index=False)\n"
   ]
  },
  {
   "cell_type": "code",
   "execution_count": null,
   "metadata": {},
   "outputs": [],
   "source": [
    "# Verify the number of samples in each split\n",
    "df_split['split_id'].value_counts()"
   ]
  },
  {
   "cell_type": "code",
   "execution_count": null,
   "metadata": {},
   "outputs": [],
   "source": [
    "# Get the high-dim and 2d embeddings\n",
    "high_dim_embeddings = np.array(df['embedding'].to_list())\n",
    "low_dim_embeddings = np.array(df['projection'].to_list())\n",
    "\n",
    "# Verify the shapes\n",
    "print(high_dim_embeddings.shape)\n",
    "print(low_dim_embeddings.shape)\n"
   ]
  },
  {
   "cell_type": "code",
   "execution_count": null,
   "metadata": {},
   "outputs": [],
   "source": [
    "# Save the high-dim and 2d embeddings to a numpy file\n",
    "np.savez(\"../data/persona.npz\", high_dim_embeddings=high_dim_embeddings, low_dim_embeddings=low_dim_embeddings,)"
   ]
  }
 ],
 "metadata": {
  "kernelspec": {
   "display_name": "llm",
   "language": "python",
   "name": "python3"
  },
  "language_info": {
   "codemirror_mode": {
    "name": "ipython",
    "version": 3
   },
   "file_extension": ".py",
   "mimetype": "text/x-python",
   "name": "python",
   "nbconvert_exporter": "python",
   "pygments_lexer": "ipython3",
   "version": "3.9.7"
  }
 },
 "nbformat": 4,
 "nbformat_minor": 2
}
