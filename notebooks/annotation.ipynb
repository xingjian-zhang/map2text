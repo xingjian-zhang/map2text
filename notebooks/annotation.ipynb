{
 "cells": [
  {
   "cell_type": "code",
   "execution_count": 1,
   "metadata": {},
   "outputs": [
    {
     "name": "stdout",
     "output_type": "stream",
     "text": [
      "Number of test points:  200\n"
     ]
    }
   ],
   "source": [
    "import os\n",
    "import warnings\n",
    "\n",
    "import numpy as np\n",
    "import pandas as pd\n",
    "import plotly.express as px\n",
    "import plotly.graph_objects as go\n",
    "\n",
    "warnings.filterwarnings(\"ignore\")\n",
    "data_path = \"data/persona.tsv\"\n",
    "embedding_path = \"data/persona.npz\"\n",
    "df = pd.read_csv(data_path, sep=\"\\t\")\n",
    "array = np.load(embedding_path)[\"low_dim_embeddings\"]\n",
    "df[\"x\"] = array[:, 0]\n",
    "df[\"y\"] = array[:, 1]\n",
    "df[\"id\"] = np.arange(len(df))\n",
    "\n",
    "test_indices_in_df = df[df[\"split_id\"] == 1][\"id\"].values[:200]\n",
    "test_indices_map = list(test_indices_in_df)\n",
    "print(\"Number of test points: \", len(test_indices_in_df))"
   ]
  },
  {
   "cell_type": "code",
   "execution_count": 2,
   "metadata": {},
   "outputs": [
    {
     "name": "stdout",
     "output_type": "stream",
     "text": [
      "[87, 114, 149, 226, 270, 278, 573, 575, 578, 585, 655, 690, 821, 833, 856, 866, 883, 928, 1045, 1057, 1221, 1230, 1318, 1322, 1332, 1349, 1402, 1414, 1430, 1550, 1572, 1728, 1761, 1966, 2029, 2104, 2129, 2174, 2180, 2280, 2360, 2495, 2514, 2742, 2937, 3231, 3253, 3393, 3789, 4050, 4151, 4162, 4221, 4232, 4293, 4337, 4367, 4510, 4624, 4645, 4688, 4727, 4790, 5019, 5073, 5169, 5215, 5223, 5324, 5438, 5464, 5904, 5937, 6148, 6175, 6234, 6267, 6729, 6748, 7129, 7144, 7315, 7335, 7677, 7748, 7841, 7858, 7895, 8018, 8028, 8093, 8257, 8285, 8311, 8452, 8525, 8569, 8786, 8866, 8950, 9093, 9161, 9162, 9423, 9494, 9600, 9660, 9887, 9937, 10049, 10501, 10550, 10571, 10618, 10817, 10899, 10980, 11014, 11040, 11060, 11141, 11147, 11317, 11372, 11405, 11446, 11468, 11650, 11712, 11855, 11863, 11895, 11930, 11968, 12042, 12085, 12250, 12256, 12387, 12396, 12469, 12533, 12560, 12750, 12896, 13121, 13343, 13413, 13551, 13579, 13705, 13735, 13797, 13799, 13914, 13924, 13928, 13935, 14038, 14106, 14149, 14228, 14268, 14424, 14529, 14531, 14778, 14805, 14888, 14952, 14984, 15006, 15022, 15152, 15294, 15394, 15460, 15466, 15495, 15602, 15626, 15663, 15780, 15808, 15837, 15842, 16130, 16160, 16290, 16301, 16361, 16638, 16730, 16783, 16821, 16885, 16958, 17247, 17494, 17502]\n"
     ]
    }
   ],
   "source": [
    "print(test_indices_map)"
   ]
  },
  {
   "cell_type": "code",
   "execution_count": 5,
   "metadata": {},
   "outputs": [],
   "source": [
    "# Generate a scatter plot of the embedding around some query point given id\n",
    "def show(query_id, radius=0.1):\n",
    "    # Get the embedding for the query point\n",
    "    original_query_id = query_id\n",
    "    query_id = test_indices_map[query_id]\n",
    "    query_embedding = df.loc[query_id, [\"x\", \"y\"]].values.astype(np.float32)\n",
    "\n",
    "    # Calculate the distance from each point to the query point\n",
    "    df[\"distance\"] = np.linalg.norm(df[[\"x\", \"y\"]].values - query_embedding, axis=1)\n",
    "\n",
    "    # Filter points within the specified radius, excluding the query point itself\n",
    "    df_filtered = df[(df[\"distance\"] <= radius) & (df[\"distance\"] > 0)]\n",
    "    df_filtered[\"x_relative\"] = df_filtered[\"x\"] - query_embedding[0]\n",
    "    df_filtered[\"y_relative\"] = df_filtered[\"y\"] - query_embedding[1]\n",
    "    df_filtered[\"distance\"] = df_filtered[\"distance\"] / radius\n",
    "\n",
    "    # Insert <br> into persona for every 10 words\n",
    "    def insert_br_into_persona(persona):\n",
    "        words = persona.split(\" \")\n",
    "        for i in range(10, len(words), 10):\n",
    "            words[i] = words[i] + \"<br>\"\n",
    "        return \" \".join(words)\n",
    "\n",
    "    df_filtered[\"persona\"] = df_filtered[\"persona\"].apply(insert_br_into_persona)\n",
    "\n",
    "    # Create a scatter plot\n",
    "    fig = px.scatter(\n",
    "        df_filtered,\n",
    "        x=\"x_relative\",\n",
    "        y=\"y_relative\",\n",
    "        # color=\"distance\",\n",
    "        title=f\"Local neighborhood around Query Point {query_id} (Test Point #{original_query_id})\",\n",
    "        width=1000,\n",
    "        height=500,\n",
    "        hover_data={\"persona\": True, \"x_relative\": False, \"y_relative\": False, \"distance\": False},\n",
    "    )\n",
    "    fig.update_xaxes(title=\"x\", range=[-radius, radius])\n",
    "    fig.update_yaxes(title=\"y\", range=[-radius, radius])\n",
    "    fig.update_traces(marker=dict(size=10, color=\"gray\"))\n",
    "\n",
    "    # Show texts for the five closest points\n",
    "    closest_points = df_filtered.sort_values(by=\"distance\", ascending=True)[:5]\n",
    "    for i, row in closest_points.iterrows():\n",
    "        fig.add_trace(\n",
    "            go.Scatter(\n",
    "                x=[row[\"x_relative\"]],\n",
    "                y=[row[\"y_relative\"]],\n",
    "                mode=\"markers\",\n",
    "                name=row[\"persona\"],\n",
    "                hoverinfo=\"text\",\n",
    "                hovertext=row[\"persona\"],\n",
    "                showlegend=True,\n",
    "            )\n",
    "        )\n",
    "    fig.update_traces(marker=dict(size=10))\n",
    "\n",
    "\n",
    "    # Add a dot at the origin\n",
    "    fig.add_trace(\n",
    "        go.Scatter(\n",
    "            x=[0],\n",
    "            y=[0],\n",
    "            mode=\"markers\",\n",
    "            marker=dict(color=\"black\", size=10, symbol=\"x\"),\n",
    "            name=\"What could be a suitable persona at this point?\",\n",
    "            hoverinfo=\"text\",\n",
    "            hovertext=\"What could be a suitable persona at this point?\",\n",
    "            showlegend=True\n",
    "        )\n",
    "    )\n",
    "\n",
    "    # fig.show()\n",
    "    fig.write_html(f\"visualizations/vis_{original_query_id}.html\")\n",
    "\n",
    "def annotate(query_id: int, persona: str):\n",
    "    os.makedirs(\"data/persona_annotations\", exist_ok=True)\n",
    "    with open(f\"data/persona_annotations/{query_id}.txt\", \"w\") as f:\n",
    "        f.write(persona)"
   ]
  },
  {
   "cell_type": "code",
   "execution_count": 9,
   "metadata": {},
   "outputs": [],
   "source": [
    "for i in range(200):\n",
    "    show(i)\n"
   ]
  }
 ],
 "metadata": {
  "kernelspec": {
   "display_name": "llm",
   "language": "python",
   "name": "python3"
  },
  "language_info": {
   "codemirror_mode": {
    "name": "ipython",
    "version": 3
   },
   "file_extension": ".py",
   "mimetype": "text/x-python",
   "name": "python",
   "nbconvert_exporter": "python",
   "pygments_lexer": "ipython3",
   "version": "3.9.7"
  }
 },
 "nbformat": 4,
 "nbformat_minor": 2
}
