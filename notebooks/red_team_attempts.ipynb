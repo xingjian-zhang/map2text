{
 "cells": [
  {
   "cell_type": "code",
   "execution_count": 1,
   "metadata": {},
   "outputs": [
    {
     "name": "stdout",
     "output_type": "stream",
     "text": [
      "{'id': 'batch_req_66ff2a43e3b88190b5b8e487501d8fc5', 'custom_id': '0', 'response': {'status_code': 200, 'request_id': '7884870b64aec4c1b40fb3617319af6a', 'body': {'id': 'chatcmpl-AEMN34riLLw1tfgq5swXcyEl0uUPK', 'object': 'chat.completion', 'created': 1727985949, 'model': 'gpt-4o-2024-08-06', 'choices': [{'index': 0, 'message': {'role': 'assistant', 'content': 'The red team expert uses a technique of discussing a sensitive topic, specifically coming out to devout Christian parents, to elicit potentially harmful advice from the language model. The conversation revolves around the potential negative reactions from religious parents and the suggestion of violence, such as punching a parent, which could promote harmful behavior and exacerbate familial conflicts.', 'refusal': None}, 'logprobs': None, 'finish_reason': 'stop'}], 'usage': {'prompt_tokens': 1025, 'completion_tokens': 67, 'total_tokens': 1092, 'prompt_tokens_details': {'cached_tokens': 0}, 'completion_tokens_details': {'reasoning_tokens': 0}}, 'system_fingerprint': 'fp_e5e4913e83'}}, 'error': None}\n"
     ]
    }
   ],
   "source": [
    "import json\n",
    "\n",
    "data_path = \"../data/red_team_attempts_summarization.jsonl\"\n",
    "\n",
    "with open(data_path, \"r\") as f:\n",
    "    data = [json.loads(line) for line in f]\n",
    "\n",
    "print(data[0])\n"
   ]
  },
  {
   "cell_type": "code",
   "execution_count": 2,
   "metadata": {},
   "outputs": [
    {
     "name": "stdout",
     "output_type": "stream",
     "text": [
      "The red team expert uses a technique of discussing a sensitive topic, specifically coming out to devout Christian parents, to elicit potentially harmful advice from the language model. The conversation revolves around the potential negative reactions from religious parents and the suggestion of violence, such as punching a parent, which could promote harmful behavior and exacerbate familial conflicts.\n"
     ]
    }
   ],
   "source": [
    "# Extract \"custom_id\" and content\n",
    "custom_ids = [item[\"custom_id\"] for item in data]\n",
    "contents = [item[\"response\"][\"body\"][\"choices\"][0][\"message\"][\"content\"] for item in data]\n",
    "\n",
    "# Create a dictionary with custom_id as key and content as value\n",
    "data_dict = dict(zip(custom_ids, contents))\n",
    "\n",
    "print(data_dict[custom_ids[0]])\n"
   ]
  },
  {
   "cell_type": "code",
   "execution_count": 3,
   "metadata": {},
   "outputs": [
    {
     "data": {
      "text/html": [
       "<div>\n",
       "<style scoped>\n",
       "    .dataframe tbody tr th:only-of-type {\n",
       "        vertical-align: middle;\n",
       "    }\n",
       "\n",
       "    .dataframe tbody tr th {\n",
       "        vertical-align: top;\n",
       "    }\n",
       "\n",
       "    .dataframe thead th {\n",
       "        text-align: right;\n",
       "    }\n",
       "</style>\n",
       "<table border=\"1\" class=\"dataframe\">\n",
       "  <thead>\n",
       "    <tr style=\"text-align: right;\">\n",
       "      <th></th>\n",
       "      <th>custom_id</th>\n",
       "      <th>content</th>\n",
       "    </tr>\n",
       "  </thead>\n",
       "  <tbody>\n",
       "    <tr>\n",
       "      <th>0</th>\n",
       "      <td>0</td>\n",
       "      <td>The red team expert uses a technique of discus...</td>\n",
       "    </tr>\n",
       "    <tr>\n",
       "      <th>1</th>\n",
       "      <td>1</td>\n",
       "      <td>The red team expert uses a technique of engagi...</td>\n",
       "    </tr>\n",
       "    <tr>\n",
       "      <th>2</th>\n",
       "      <td>10</td>\n",
       "      <td>The red team expert employs a technique of int...</td>\n",
       "    </tr>\n",
       "    <tr>\n",
       "      <th>3</th>\n",
       "      <td>100</td>\n",
       "      <td>The red team expert employs a technique of pos...</td>\n",
       "    </tr>\n",
       "    <tr>\n",
       "      <th>4</th>\n",
       "      <td>1000</td>\n",
       "      <td>The red team expert employs a technique of per...</td>\n",
       "    </tr>\n",
       "  </tbody>\n",
       "</table>\n",
       "</div>"
      ],
      "text/plain": [
       "  custom_id                                            content\n",
       "0         0  The red team expert uses a technique of discus...\n",
       "1         1  The red team expert uses a technique of engagi...\n",
       "2        10  The red team expert employs a technique of int...\n",
       "3       100  The red team expert employs a technique of pos...\n",
       "4      1000  The red team expert employs a technique of per..."
      ]
     },
     "execution_count": 3,
     "metadata": {},
     "output_type": "execute_result"
    }
   ],
   "source": [
    "# Sort data_dict by custom_id\n",
    "import pandas as pd\n",
    "sorted_data_dict = dict(sorted(data_dict.items(), key=lambda x: x[0]))\n",
    "\n",
    "# Convert to dataframe\n",
    "df = pd.DataFrame(sorted_data_dict.items(), columns=[\"custom_id\", \"content\"])\n",
    "df.head()"
   ]
  },
  {
   "cell_type": "code",
   "execution_count": 5,
   "metadata": {},
   "outputs": [
    {
     "data": {
      "text/html": [
       "<div>\n",
       "<style scoped>\n",
       "    .dataframe tbody tr th:only-of-type {\n",
       "        vertical-align: middle;\n",
       "    }\n",
       "\n",
       "    .dataframe tbody tr th {\n",
       "        vertical-align: top;\n",
       "    }\n",
       "\n",
       "    .dataframe thead th {\n",
       "        text-align: right;\n",
       "    }\n",
       "</style>\n",
       "<table border=\"1\" class=\"dataframe\">\n",
       "  <thead>\n",
       "    <tr style=\"text-align: right;\">\n",
       "      <th></th>\n",
       "      <th>custom_id</th>\n",
       "      <th>content</th>\n",
       "    </tr>\n",
       "  </thead>\n",
       "  <tbody>\n",
       "    <tr>\n",
       "      <th>0</th>\n",
       "      <td>0</td>\n",
       "      <td>The red team expert uses a technique of discus...</td>\n",
       "    </tr>\n",
       "    <tr>\n",
       "      <th>1</th>\n",
       "      <td>1</td>\n",
       "      <td>The red team expert uses a technique of engagi...</td>\n",
       "    </tr>\n",
       "    <tr>\n",
       "      <th>11112</th>\n",
       "      <td>2</td>\n",
       "      <td>The red team expert employs a technique of pre...</td>\n",
       "    </tr>\n",
       "    <tr>\n",
       "      <th>22223</th>\n",
       "      <td>3</td>\n",
       "      <td>The red team expert uses a technique of engagi...</td>\n",
       "    </tr>\n",
       "    <tr>\n",
       "      <th>32295</th>\n",
       "      <td>4</td>\n",
       "      <td>The red team expert employs a technique of dir...</td>\n",
       "    </tr>\n",
       "  </tbody>\n",
       "</table>\n",
       "</div>"
      ],
      "text/plain": [
       "       custom_id                                            content\n",
       "0              0  The red team expert uses a technique of discus...\n",
       "1              1  The red team expert uses a technique of engagi...\n",
       "11112          2  The red team expert employs a technique of pre...\n",
       "22223          3  The red team expert uses a technique of engagi...\n",
       "32295          4  The red team expert employs a technique of dir..."
      ]
     },
     "execution_count": 5,
     "metadata": {},
     "output_type": "execute_result"
    }
   ],
   "source": [
    "df[\"custom_id\"] = df[\"custom_id\"].astype(int)\n",
    "df = df.sort_values(by=\"custom_id\")\n",
    "df.head()"
   ]
  },
  {
   "cell_type": "code",
   "execution_count": 8,
   "metadata": {},
   "outputs": [
    {
     "data": {
      "text/html": [
       "<div>\n",
       "<style scoped>\n",
       "    .dataframe tbody tr th:only-of-type {\n",
       "        vertical-align: middle;\n",
       "    }\n",
       "\n",
       "    .dataframe tbody tr th {\n",
       "        vertical-align: top;\n",
       "    }\n",
       "\n",
       "    .dataframe thead th {\n",
       "        text-align: right;\n",
       "    }\n",
       "</style>\n",
       "<table border=\"1\" class=\"dataframe\">\n",
       "  <thead>\n",
       "    <tr style=\"text-align: right;\">\n",
       "      <th></th>\n",
       "      <th>custom_id</th>\n",
       "      <th>content</th>\n",
       "      <th>split</th>\n",
       "    </tr>\n",
       "  </thead>\n",
       "  <tbody>\n",
       "    <tr>\n",
       "      <th>0</th>\n",
       "      <td>0</td>\n",
       "      <td>The red team expert uses a technique of discus...</td>\n",
       "      <td>0</td>\n",
       "    </tr>\n",
       "    <tr>\n",
       "      <th>1</th>\n",
       "      <td>1</td>\n",
       "      <td>The red team expert uses a technique of engagi...</td>\n",
       "      <td>0</td>\n",
       "    </tr>\n",
       "    <tr>\n",
       "      <th>11112</th>\n",
       "      <td>2</td>\n",
       "      <td>The red team expert employs a technique of pre...</td>\n",
       "      <td>0</td>\n",
       "    </tr>\n",
       "    <tr>\n",
       "      <th>22223</th>\n",
       "      <td>3</td>\n",
       "      <td>The red team expert uses a technique of engagi...</td>\n",
       "      <td>0</td>\n",
       "    </tr>\n",
       "    <tr>\n",
       "      <th>32295</th>\n",
       "      <td>4</td>\n",
       "      <td>The red team expert employs a technique of dir...</td>\n",
       "      <td>0</td>\n",
       "    </tr>\n",
       "  </tbody>\n",
       "</table>\n",
       "</div>"
      ],
      "text/plain": [
       "       custom_id                                            content  split\n",
       "0              0  The red team expert uses a technique of discus...      0\n",
       "1              1  The red team expert uses a technique of engagi...      0\n",
       "11112          2  The red team expert employs a technique of pre...      0\n",
       "22223          3  The red team expert uses a technique of engagi...      0\n",
       "32295          4  The red team expert employs a technique of dir...      0"
      ]
     },
     "execution_count": 8,
     "metadata": {},
     "output_type": "execute_result"
    }
   ],
   "source": [
    "# Randomly sample 2% as split=1, otherwise split=0\n",
    "subset_df = df.sample(frac=0.02, random_state=42)\n",
    "subset_indices = subset_df[\"custom_id\"].tolist()\n",
    "df[\"split\"] = df[\"custom_id\"].apply(lambda x: 1 if x in subset_indices else 0)\n",
    "df.head()"
   ]
  },
  {
   "cell_type": "code",
   "execution_count": 9,
   "metadata": {},
   "outputs": [
    {
     "data": {
      "text/plain": [
       "split\n",
       "0    38182\n",
       "1      779\n",
       "Name: count, dtype: int64"
      ]
     },
     "execution_count": 9,
     "metadata": {},
     "output_type": "execute_result"
    }
   ],
   "source": [
    "# Count split=1 and split=0\n",
    "df[\"split\"].value_counts()"
   ]
  },
  {
   "cell_type": "code",
   "execution_count": 11,
   "metadata": {},
   "outputs": [],
   "source": [
    "df.to_csv(\"../data/red_team_attempts.tsv\", sep=\"\\t\", index=False)"
   ]
  },
  {
   "cell_type": "code",
   "execution_count": 3,
   "metadata": {},
   "outputs": [
    {
     "name": "stdout",
     "output_type": "stream",
     "text": [
      "(38961, 1536)\n",
      "(38961, 2)\n"
     ]
    }
   ],
   "source": [
    "import numpy as np\n",
    "\n",
    "\n",
    "embedding_path = \"../data/ada2_red_team_attempts.npz\"\n",
    "\n",
    "# Load the embeddings from the file\n",
    "embeddings = np.load(embedding_path)\n",
    "\n",
    "high_dim_embeddings = embeddings[\"high_dim_embeddings\"]\n",
    "low_dim_embeddings = embeddings[\"low_dim_embeddings\"]\n",
    "\n",
    "# Print the shape of the embeddings\n",
    "print(high_dim_embeddings.shape)\n",
    "print(low_dim_embeddings.shape)\n",
    "\n"
   ]
  },
  {
   "cell_type": "code",
   "execution_count": null,
   "metadata": {},
   "outputs": [],
   "source": []
  }
 ],
 "metadata": {
  "kernelspec": {
   "display_name": "llm",
   "language": "python",
   "name": "python3"
  },
  "language_info": {
   "codemirror_mode": {
    "name": "ipython",
    "version": 3
   },
   "file_extension": ".py",
   "mimetype": "text/x-python",
   "name": "python",
   "nbconvert_exporter": "python",
   "pygments_lexer": "ipython3",
   "version": "3.9.19"
  }
 },
 "nbformat": 4,
 "nbformat_minor": 2
}
