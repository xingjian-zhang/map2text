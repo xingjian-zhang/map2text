{
 "cells": [
  {
   "cell_type": "code",
   "execution_count": null,
   "metadata": {},
   "outputs": [],
   "source": [
    "import pandas as pd\n",
    "\n",
    "file_path = \"../data/SAC_tokenized.csv\"\n",
    "df = pd.read_csv(file_path)\n",
    "\n",
    "df.head()"
   ]
  },
  {
   "cell_type": "code",
   "execution_count": null,
   "metadata": {},
   "outputs": [],
   "source": [
    "# Filter out prompts that are too short\n",
    "df[\"length\"] = df[\"prompt\"].apply(lambda x: len(str(x).split()))\n",
    "df[\"length\"].describe()"
   ]
  },
  {
   "cell_type": "code",
   "execution_count": null,
   "metadata": {},
   "outputs": [],
   "source": [
    "df = df[df[\"length\"] >= 3]\n",
    "len(df)"
   ]
  },
  {
   "cell_type": "code",
   "execution_count": null,
   "metadata": {},
   "outputs": [],
   "source": [
    "prompts = df[\"prompt\"].tolist()\n",
    "prompts = list(set(prompts))"
   ]
  },
  {
   "cell_type": "code",
   "execution_count": null,
   "metadata": {},
   "outputs": [],
   "source": [
    "prompts[0]"
   ]
  },
  {
   "cell_type": "code",
   "execution_count": null,
   "metadata": {},
   "outputs": [],
   "source": [
    "import re\n",
    "# Only keep alphabetical, numeric, space, and comma for each prompt\n",
    "prompts = [re.sub(r'[^a-zA-Z0-9\\s,]', '', p) for p in prompts]"
   ]
  },
  {
   "cell_type": "code",
   "execution_count": null,
   "metadata": {},
   "outputs": [],
   "source": [
    "import random\n",
    "\n",
    "random.choices(prompts, k=10)"
   ]
  },
  {
   "cell_type": "code",
   "execution_count": null,
   "metadata": {},
   "outputs": [],
   "source": [
    "ids = list(range(len(prompts)))\n",
    "\n",
    "df_prompt = pd.DataFrame({\"id\": ids, \"prompt\": prompts})\n",
    "split_ids = df_prompt.sample(frac=0.02, random_state=42).index\n",
    "df_prompt[\"split_id\"] = df_prompt.index.isin(split_ids).astype(int)\n",
    "df_prompt.head()\n"
   ]
  },
  {
   "cell_type": "code",
   "execution_count": null,
   "metadata": {},
   "outputs": [],
   "source": [
    "# Check number of prompts in each split\n",
    "df_prompt[\"split_id\"].value_counts()\n"
   ]
  },
  {
   "cell_type": "code",
   "execution_count": null,
   "metadata": {},
   "outputs": [],
   "source": [
    "df_prompt.to_csv(\"../data/prompt_log.tsv\", sep=\"\\t\", index=False)"
   ]
  },
  {
   "cell_type": "code",
   "execution_count": null,
   "metadata": {},
   "outputs": [],
   "source": [
    "import numpy as np\n",
    "\n",
    "\n",
    "data = np.load(\"../out/ada2_prompt.npz\")\n",
    "high_dim_embeddings = data[\"high_dim_embeddings\"]\n",
    "low_dim_embeddings = data[\"low_dim_embeddings\"]\n",
    "\n",
    "print(high_dim_embeddings.shape)\n",
    "print(low_dim_embeddings.shape)\n"
   ]
  },
  {
   "cell_type": "code",
   "execution_count": null,
   "metadata": {},
   "outputs": [],
   "source": [
    "import pandas as pd\n",
    "\n",
    "df_prompt_subset = pd.read_csv(\"../data/prompt_log.tsv\", sep=\"\\t\")\n",
    "print(len(df_prompt_subset))"
   ]
  },
  {
   "cell_type": "code",
   "execution_count": null,
   "metadata": {},
   "outputs": [],
   "source": [
    "# Use plotly to visualize the low_dim_embeddings (2D)\n",
    "import plotly.express as px\n",
    "\n",
    "# Set the figure size to be a square\n",
    "fig = px.scatter(\n",
    "    x=low_dim_embeddings[:, 0],\n",
    "    y=low_dim_embeddings[:, 1],\n",
    "    hover_data={\"prompt\": df_prompt_subset[\"prompt\"]},\n",
    "    title=\"2D Embeddings of Prompts\",\n",
    "    width=800,  # Set width\n",
    "    height=800,  # Set height to be the same as width\n",
    "    size_max=3  # Set a smaller maximum size for the dots\n",
    ")\n",
    "\n",
    "fig.update_traces(marker=dict(size=2), hovertemplate='<b>Prompt:</b> %{customdata[0]}')\n",
    "fig.show()"
   ]
  },
  {
   "cell_type": "code",
   "execution_count": null,
   "metadata": {},
   "outputs": [],
   "source": []
  }
 ],
 "metadata": {
  "kernelspec": {
   "display_name": "llm",
   "language": "python",
   "name": "python3"
  },
  "language_info": {
   "codemirror_mode": {
    "name": "ipython",
    "version": 3
   },
   "file_extension": ".py",
   "mimetype": "text/x-python",
   "name": "python",
   "nbconvert_exporter": "python",
   "pygments_lexer": "ipython3",
   "version": "3.8.17"
  }
 },
 "nbformat": 4,
 "nbformat_minor": 2
}
