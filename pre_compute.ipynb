{
 "cells": [
  {
   "cell_type": "code",
   "execution_count": 1,
   "metadata": {},
   "outputs": [],
   "source": [
    "\n",
    "import argparse\n",
    "import datetime\n",
    "import json\n",
    "import logging\n",
    "import os\n",
    "import re\n",
    "from typing import Any, List\n",
    "\n",
    "import numpy as np\n",
    "import pandas as pd\n",
    "import yaml\n",
    "\n",
    "from llm4explore.model import non_trainable_gen, pretrain_map\n",
    "from llm4explore.model.base import IdeaGenerator, IdeaMapper"
   ]
  },
  {
   "cell_type": "code",
   "execution_count": 3,
   "metadata": {},
   "outputs": [],
   "source": [
    "data_csv = \"data/massw_llm4explore.tsv\"\n",
    "data_npz = \"data/ada2_key_ideas.npz\"\n",
    "target_col = \"key_idea\"\n",
    "time_col = \"year\"\n",
    "time_split = 2023\n",
    "\n",
    "data = pd.read_csv(\n",
    "            data_csv,\n",
    "            sep=\"\\t\",\n",
    "            usecols=[\n",
    "                target_col,\n",
    "                time_col ,\n",
    "            ],\n",
    "        )\n",
    "\n",
    "data = data.dropna(subset=[target_col])\n",
    "targets = data[target_col]\n",
    "times = data[time_col]\n",
    "\n",
    "npz = np.load(data_npz)\n",
    "high_dim_embeddings = npz[\"high_dim_embeddings\"]\n",
    "low_dim_embeddings = npz[\"low_dim_embeddings\"]\n",
    "n_dims = low_dim_embeddings.shape[1]\n",
    "\n",
    "targets_old = targets[times < time_split].tolist()\n",
    "targets_new = targets[times >= time_split].tolist()\n",
    "low_dim_embeddings_new = low_dim_embeddings[times >= time_split]\n",
    "low_dim_embeddings_old = low_dim_embeddings[times < time_split]"
   ]
  },
  {
   "cell_type": "code",
   "execution_count": null,
   "metadata": {},
   "outputs": [],
   "source": []
  }
 ],
 "metadata": {
  "kernelspec": {
   "display_name": "llm",
   "language": "python",
   "name": "python3"
  },
  "language_info": {
   "codemirror_mode": {
    "name": "ipython",
    "version": 3
   },
   "file_extension": ".py",
   "mimetype": "text/x-python",
   "name": "python",
   "nbconvert_exporter": "python",
   "pygments_lexer": "ipython3",
   "version": "3.12.1"
  }
 },
 "nbformat": 4,
 "nbformat_minor": 2
}
